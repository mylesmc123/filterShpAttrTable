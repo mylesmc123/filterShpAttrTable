{
 "cells": [
  {
   "cell_type": "code",
   "execution_count": 59,
   "metadata": {},
   "outputs": [],
   "source": [
    "\r\n",
    "import geopandas as gpd\r\n",
    "import pandas as pd\r\n",
    "river_df = gpd.read_file(r\"C:\\Users\\Myles.McManus\\Documents\\Working\\GLO\\GIS\\_Water\\StreamPriority\\StreamsByHuc12.shp\")\r\n",
    "huc_df = gpd.read_file(r\"C:\\Users\\Myles.McManus\\Documents\\Working\\GLO\\GIS\\_Water\\StreamPriority\\HUC12_ranked.shp\")\r\n",
   ]
  },
  {
   "cell_type": "code",
   "execution_count": 60,
   "metadata": {},
   "outputs": [],
   "source": [
    "huc12s = river_df['huc12'].unique()\r\n"
   ]
  },
  {
   "cell_type": "code",
   "execution_count": 62,
   "metadata": {},
   "outputs": [],
   "source": [
    "# For each HUC12 in the stream df, filter out each huc 12, then filter out each priority (hi, med, low), and sum the river miles.\r\n",
    "# Then, assign the priority based river miles to the HUC12 dataframe columns.\r\n",
    "outputDict = {}\r\n",
    "for huc in huc12s:\r\n",
    "    #filter out each huc 12\r\n",
    "    filteredHuc_riverDf = river_df[river_df['huc12'] == huc]\r\n",
    "\r\n",
    "    # Filter out streams by priority and sum the length.\r\n",
    "    lowHucPriority = filteredHuc_riverDf[filteredHuc_riverDf['Priority'] == 'Low']\r\n",
    "    lowHucRiverLength = lowHucPriority['Length_mi'].sum()\r\n",
    "\r\n",
    "    medHucPriority = filteredHuc_riverDf[filteredHuc_riverDf['Priority'] == 'Medium']\r\n",
    "    medHucRiverLength = medHucPriority['Length_mi'].sum()\r\n",
    "\r\n",
    "    hiHucPriority = filteredHuc_riverDf[filteredHuc_riverDf['Priority'] == 'High']\r\n",
    "    hiHucRiverLength = hiHucPriority['Length_mi'].sum()\r\n",
    "\r\n",
    "    # Assign Length to each HUC12 in huc_df.\r\n",
    "    huc_df.loc[huc_df['huc12'] == huc, 'RivMi_Low'] = lowHucRiverLength\r\n",
    "    huc_df.loc[huc_df['huc12'] == huc, 'RivMi_Med'] = medHucRiverLength\r\n",
    "    huc_df.loc[huc_df['huc12'] == huc, 'RivMi_Hi'] = hiHucRiverLength\r\n",
    "\r\n",
    "    # Change dtype to float\r\n",
    "    huc_df['RivMi_Low'] = huc_df['RivMi_Low'].astype(float)\r\n",
    "    huc_df['RivMi_Med'] = huc_df['RivMi_Med'].astype(float)\r\n",
    "    huc_df['RivMi_Hi'] = huc_df['RivMi_Hi'].astype(float)\r\n",
    "\r\n",
    "huc_df.to_file('./temp.shp')\r\n",
    "    "
   ]
  }
 ],
 "metadata": {
  "interpreter": {
   "hash": "bed8ea6dd1cfbdd33c18f445be54d49b203639a0b4ebf0230363255ca45c02fc"
  },
  "kernelspec": {
   "display_name": "Python 3.8.12 64-bit",
   "name": "python3"
  },
  "language_info": {
   "name": "python",
   "version": ""
  },
  "orig_nbformat": 4
 },
 "nbformat": 4,
 "nbformat_minor": 2
}
