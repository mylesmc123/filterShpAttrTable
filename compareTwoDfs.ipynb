{
 "cells": [
  {
   "cell_type": "code",
   "execution_count": 15,
   "metadata": {},
   "outputs": [],
   "source": [
    "import geopandas as gpd\r\n",
    "import pandas as pd\r\n",
    "\r\n",
    "\r\n",
    "df1 = gpd.read_file(r'C:\\Users\\Myles.McManus\\Documents\\Working\\GLO\\GIS\\_Water\\StreamPriority\\StreamPriority_Final.shp')\r\n",
    "df2 = gpd.read_file(r\"C:\\Users\\Myles.McManus\\Documents\\Working\\GLO\\GIS\\_Water\\StreamPriority\\StreamPriority100yr500ft.shp\")\r\n",
    "\r\n",
    "keeperColumns1 = df1[['GNIS_ID', 'GNIS_Name', 'ReachCode', 'NHDPlusID', 'Priority', 'n']]\r\n",
    "keeperColumns2 = df2[['GNIS_ID', 'GNIS_Name', 'ReachCode', 'NHDPlusID', 'Priority', 'n']]\r\n",
    "df1 = keeperColumns1.copy()\r\n",
    "df2 = keeperColumns1.copy()\r\n",
    "\r\n",
    "# df = pd.concat([df1, df2])\r\n",
    "# df = df.reset_index(drop=True)\r\n",
    "\r\n",
    "\r\n"
   ]
  },
  {
   "cell_type": "code",
   "execution_count": 16,
   "metadata": {},
   "outputs": [
    {
     "data": {
      "text/html": [
       "<div>\n",
       "<style scoped>\n",
       "    .dataframe tbody tr th:only-of-type {\n",
       "        vertical-align: middle;\n",
       "    }\n",
       "\n",
       "    .dataframe tbody tr th {\n",
       "        vertical-align: top;\n",
       "    }\n",
       "\n",
       "    .dataframe thead th {\n",
       "        text-align: right;\n",
       "    }\n",
       "</style>\n",
       "<table border=\"1\" class=\"dataframe\">\n",
       "  <thead>\n",
       "    <tr style=\"text-align: right;\">\n",
       "      <th></th>\n",
       "      <th>GNIS_ID</th>\n",
       "      <th>GNIS_Name</th>\n",
       "      <th>ReachCode</th>\n",
       "      <th>NHDPlusID</th>\n",
       "      <th>Priority</th>\n",
       "      <th>n</th>\n",
       "    </tr>\n",
       "  </thead>\n",
       "  <tbody>\n",
       "  </tbody>\n",
       "</table>\n",
       "</div>"
      ],
      "text/plain": [
       "Empty DataFrame\n",
       "Columns: [GNIS_ID, GNIS_Name, ReachCode, NHDPlusID, Priority, n]\n",
       "Index: []"
      ]
     },
     "execution_count": 16,
     "metadata": {},
     "output_type": "execute_result"
    }
   ],
   "source": [
    "df_diff = pd.concat([df1,df2]).drop_duplicates(keep=False)\r\n",
    "df_diff"
   ]
  },
  {
   "cell_type": "code",
   "execution_count": null,
   "metadata": {},
   "outputs": [],
   "source": []
  }
 ],
 "metadata": {
  "interpreter": {
   "hash": "bed8ea6dd1cfbdd33c18f445be54d49b203639a0b4ebf0230363255ca45c02fc"
  },
  "kernelspec": {
   "display_name": "Python 3.8.12 64-bit ('flud80': conda)",
   "name": "python3"
  },
  "language_info": {
   "codemirror_mode": {
    "name": "ipython",
    "version": 3
   },
   "file_extension": ".py",
   "mimetype": "text/x-python",
   "name": "python",
   "nbconvert_exporter": "python",
   "pygments_lexer": "ipython3",
   "version": "3.8.12"
  },
  "orig_nbformat": 4
 },
 "nbformat": 4,
 "nbformat_minor": 2
}