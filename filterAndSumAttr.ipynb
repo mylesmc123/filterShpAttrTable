{
 "cells": [
  {
   "cell_type": "code",
   "execution_count": 14,
   "metadata": {},
   "outputs": [],
   "source": [
    "\r\n",
    "import geopandas as gpd\r\n",
    "import pandas as pd\r\n",
    "df = gpd.read_file(r\"C:\\Users\\Myles.McManus\\Documents\\Working\\GLO\\GIS\\_Water\\StreamPriority\\StreamsByHuc12.shp\")\r\n",
    "# df['Length_mi']\r\n",
    "hi = df[df['Priority'] == 'High']\r\n",
    "Nhi = len(hi)\r\n",
    "hi = hi['Length_mi'].sum()\r\n",
    "\r\n",
    "med = df[df['Priority'] == 'Medium']\r\n",
    "Nmed = len(med)\r\n",
    "med = med['Length_mi'].sum()\r\n",
    "\r\n",
    "low = df[df['Priority'] == 'Low']\r\n",
    "Nlow = len(low)\r\n",
    "low = low['Length_mi'].sum()\r\n"
   ]
  }
 ],
 "metadata": {
  "language_info": {
   "name": "python",
   "nbconvert_exporter": "python"
  },
  "orig_nbformat": 4
 },
 "nbformat": 4,
 "nbformat_minor": 2
}